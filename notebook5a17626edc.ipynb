{
  "metadata": {
    "kernelspec": {
      "language": "python",
      "display_name": "Python 3",
      "name": "python3"
    },
    "language_info": {
      "name": "python",
      "version": "3.10.12",
      "mimetype": "text/x-python",
      "codemirror_mode": {
        "name": "ipython",
        "version": 3
      },
      "pygments_lexer": "ipython3",
      "nbconvert_exporter": "python",
      "file_extension": ".py"
    },
    "kaggle": {
      "accelerator": "none",
      "dataSources": [],
      "dockerImageVersionId": 30839,
      "isInternetEnabled": true,
      "language": "python",
      "sourceType": "notebook",
      "isGpuEnabled": false
    },
    "colab": {
      "name": "notebook5a17626edc",
      "provenance": []
    }
  },
  "nbformat_minor": 0,
  "nbformat": 4,
  "cells": [
    {
      "cell_type": "markdown",
      "source": [
        "## Dowloading the dataset"
      ],
      "metadata": {
        "id": "WykX9llWhh7z"
      }
    },
    {
      "cell_type": "code",
      "source": [
        "!wget https://s3.amazonaws.com/keras-datasets/jena_climate_2009_2016.csv.zip\n",
        "!unzip jena_climate_2009_2016.csv.zip"
      ],
      "metadata": {
        "trusted": true,
        "execution": {
          "iopub.status.busy": "2025-01-21T16:25:13.074178Z",
          "iopub.execute_input": "2025-01-21T16:25:13.074644Z",
          "iopub.status.idle": "2025-01-21T16:25:16.485043Z",
          "shell.execute_reply.started": "2025-01-21T16:25:13.074609Z",
          "shell.execute_reply": "2025-01-21T16:25:16.483654Z"
        },
        "id": "HtUVpmuTg_8k"
      },
      "outputs": [],
      "execution_count": null
    },
    {
      "cell_type": "markdown",
      "source": [
        "# Reading the dataset"
      ],
      "metadata": {
        "id": "AADzKhtfhgKs"
      }
    },
    {
      "cell_type": "code",
      "source": [
        "import os\n",
        "fname = os.path.join(\"jena_climate_2009_2016.csv\")\n",
        "with open(fname) as f:\n",
        "    data = f.read()"
      ],
      "metadata": {
        "trusted": true,
        "execution": {
          "iopub.status.busy": "2025-01-21T16:25:21.166442Z",
          "iopub.execute_input": "2025-01-21T16:25:21.166939Z",
          "iopub.status.idle": "2025-01-21T16:25:21.295338Z",
          "shell.execute_reply.started": "2025-01-21T16:25:21.166903Z",
          "shell.execute_reply": "2025-01-21T16:25:21.293928Z"
        },
        "id": "Mvex3uIQg_8m"
      },
      "outputs": [],
      "execution_count": null
    },
    {
      "cell_type": "code",
      "source": [
        "lines = data.split(\"\\n\")\n",
        "header = lines[0].split(\",\")\n",
        "lines = lines[1:]\n",
        "print(header)"
      ],
      "metadata": {
        "trusted": true,
        "execution": {
          "iopub.status.busy": "2025-01-21T16:25:24.564185Z",
          "iopub.execute_input": "2025-01-21T16:25:24.564614Z",
          "iopub.status.idle": "2025-01-21T16:25:24.680811Z",
          "shell.execute_reply.started": "2025-01-21T16:25:24.564573Z",
          "shell.execute_reply": "2025-01-21T16:25:24.679629Z"
        },
        "id": "eiioQvSIg_8o"
      },
      "outputs": [],
      "execution_count": null
    },
    {
      "cell_type": "markdown",
      "source": [
        "## Separating the target feature and the input features\n"
      ],
      "metadata": {
        "id": "XNhZrszAiBQb"
      }
    },
    {
      "cell_type": "code",
      "source": [
        "import numpy as np\n",
        "temperature = np.zeros((len(lines),))\n",
        "raw_data = np.zeros((len(lines), len(header)- 1))\n",
        "for i, line in enumerate(lines):\n",
        "    values = [float(x) for x in line.split(\",\")[1:]]\n",
        "    temperature[i] =values[1]\n",
        "    raw_data[i, :] = values[:]"
      ],
      "metadata": {
        "trusted": true,
        "execution": {
          "iopub.status.busy": "2025-01-21T16:25:34.643567Z",
          "iopub.execute_input": "2025-01-21T16:25:34.643909Z",
          "iopub.status.idle": "2025-01-21T16:25:36.633219Z",
          "shell.execute_reply.started": "2025-01-21T16:25:34.643883Z",
          "shell.execute_reply": "2025-01-21T16:25:36.632384Z"
        },
        "id": "5pHJD5zEg_8q"
      },
      "outputs": [],
      "execution_count": null
    },
    {
      "cell_type": "markdown",
      "source": [
        "# Plotting the target feature(temperature)"
      ],
      "metadata": {
        "id": "9E5axRouiUGA"
      }
    },
    {
      "cell_type": "code",
      "source": [
        "import matplotlib.pyplot as plt\n",
        "plt.plot(range(len(temperature)), temperature)"
      ],
      "metadata": {
        "trusted": true,
        "execution": {
          "iopub.status.busy": "2025-01-21T16:25:55.783542Z",
          "iopub.execute_input": "2025-01-21T16:25:55.783893Z",
          "iopub.status.idle": "2025-01-21T16:25:56.373005Z",
          "shell.execute_reply.started": "2025-01-21T16:25:55.783868Z",
          "shell.execute_reply": "2025-01-21T16:25:56.371792Z"
        },
        "id": "zNvdCqrqg_8r"
      },
      "outputs": [],
      "execution_count": null
    },
    {
      "cell_type": "code",
      "source": [
        "plt.plot(range(1440), temperature[:1440])"
      ],
      "metadata": {
        "trusted": true,
        "execution": {
          "iopub.status.busy": "2025-01-21T16:25:59.965619Z",
          "iopub.execute_input": "2025-01-21T16:25:59.966032Z",
          "iopub.status.idle": "2025-01-21T16:26:00.166343Z",
          "shell.execute_reply.started": "2025-01-21T16:25:59.966002Z",
          "shell.execute_reply": "2025-01-21T16:26:00.164949Z"
        },
        "id": "Ofn5pKlGg_8t"
      },
      "outputs": [],
      "execution_count": null
    },
    {
      "cell_type": "code",
      "source": [
        "print(temperature)"
      ],
      "metadata": {
        "trusted": true,
        "execution": {
          "iopub.status.busy": "2025-01-21T16:26:03.203665Z",
          "iopub.execute_input": "2025-01-21T16:26:03.204095Z",
          "iopub.status.idle": "2025-01-21T16:26:03.21073Z",
          "shell.execute_reply.started": "2025-01-21T16:26:03.204054Z",
          "shell.execute_reply": "2025-01-21T16:26:03.209267Z"
        },
        "id": "SxEYEIADg_8u"
      },
      "outputs": [],
      "execution_count": null
    },
    {
      "cell_type": "markdown",
      "source": [
        "# Splitting the dataset into train, Val and text"
      ],
      "metadata": {
        "id": "Jl_zcBLrihRv"
      }
    },
    {
      "cell_type": "code",
      "source": [
        "#splitting data into train , val, text\n",
        "train_samples = int(len(raw_data) * 0.5)\n",
        "val_samples = int(len(raw_data) * 0.25)\n",
        "test_samples = int(len(raw_data)-(train_samples + val_samples))"
      ],
      "metadata": {
        "trusted": true,
        "execution": {
          "iopub.status.busy": "2025-01-21T16:28:39.515534Z",
          "iopub.execute_input": "2025-01-21T16:28:39.515992Z",
          "iopub.status.idle": "2025-01-21T16:28:39.521767Z",
          "shell.execute_reply.started": "2025-01-21T16:28:39.515962Z",
          "shell.execute_reply": "2025-01-21T16:28:39.520255Z"
        },
        "id": "Y3kwBs-kg_8w"
      },
      "outputs": [],
      "execution_count": null
    },
    {
      "cell_type": "markdown",
      "source": [
        "# Normalizing the dataset"
      ],
      "metadata": {
        "id": "NWHJJM1KivXX"
      }
    },
    {
      "cell_type": "code",
      "source": [
        "#normalizing the data\n",
        "mean = raw_data[:train_samples].mean(axis = 0)\n",
        "raw_data -= mean\n",
        "std = raw_data[:train_samples].std(axis = 0)\n",
        "raw_data /= std"
      ],
      "metadata": {
        "trusted": true,
        "execution": {
          "iopub.status.busy": "2025-01-21T16:28:50.465406Z",
          "iopub.execute_input": "2025-01-21T16:28:50.465824Z",
          "iopub.status.idle": "2025-01-21T16:28:50.53438Z",
          "shell.execute_reply.started": "2025-01-21T16:28:50.465794Z",
          "shell.execute_reply": "2025-01-21T16:28:50.532996Z"
        },
        "id": "dRS0-O3Zg_8x"
      },
      "outputs": [],
      "execution_count": null
    },
    {
      "cell_type": "code",
      "source": [
        "#timeseries dataset from array\n",
        "import tensorflow as tf\n",
        "from tensorflow import keras"
      ],
      "metadata": {
        "trusted": true,
        "execution": {
          "iopub.status.busy": "2025-01-21T16:28:53.92582Z",
          "iopub.execute_input": "2025-01-21T16:28:53.926149Z",
          "iopub.status.idle": "2025-01-21T16:28:53.930734Z",
          "shell.execute_reply.started": "2025-01-21T16:28:53.926123Z",
          "shell.execute_reply": "2025-01-21T16:28:53.929592Z"
        },
        "id": "55uJf1vgg_8z"
      },
      "outputs": [],
      "execution_count": null
    },
    {
      "cell_type": "markdown",
      "source": [
        "# Utilizing the timeseries_dataset_from_array to chuck the dataset set into squence of windows"
      ],
      "metadata": {
        "id": "G_NMwFqLi7H4"
      }
    },
    {
      "cell_type": "code",
      "source": [
        "sampling_rate = 6\n",
        "sequence_length = 120\n",
        "delay = sampling_rate * (sequence_length + 24 - 1)\n",
        "batch_size = 256\n",
        "train_dataset = keras.utils.timeseries_dataset_from_array(\n",
        "    raw_data[:-delay],\n",
        "    targets = temperature[delay:],\n",
        "    sampling_rate =  sampling_rate,\n",
        "    sequence_length = sequence_length,\n",
        "    batch_size = batch_size,\n",
        "    shuffle = True,\n",
        "    start_index = 0,\n",
        "    end_index = train_samples\n",
        "\n",
        "\n",
        ")"
      ],
      "metadata": {
        "trusted": true,
        "execution": {
          "iopub.status.busy": "2025-01-21T16:28:55.42549Z",
          "iopub.execute_input": "2025-01-21T16:28:55.425869Z",
          "iopub.status.idle": "2025-01-21T16:28:55.553614Z",
          "shell.execute_reply.started": "2025-01-21T16:28:55.425839Z",
          "shell.execute_reply": "2025-01-21T16:28:55.552409Z"
        },
        "id": "LDEB0jAag_80"
      },
      "outputs": [],
      "execution_count": null
    },
    {
      "cell_type": "code",
      "source": [
        "val_dataset = keras.utils.timeseries_dataset_from_array(\n",
        "    raw_data[:-delay],\n",
        "    targets = temperature[delay:],\n",
        "    sampling_rate = sampling_rate,\n",
        "    sequence_length = sequence_length,\n",
        "    batch_size = batch_size,\n",
        "    shuffle = True,\n",
        "    start_index = train_samples,\n",
        "    end_index = train_samples + val_samples\n",
        ")"
      ],
      "metadata": {
        "trusted": true,
        "execution": {
          "iopub.status.busy": "2025-01-21T16:28:58.152515Z",
          "iopub.execute_input": "2025-01-21T16:28:58.152881Z",
          "iopub.status.idle": "2025-01-21T16:28:58.241251Z",
          "shell.execute_reply.started": "2025-01-21T16:28:58.152852Z",
          "shell.execute_reply": "2025-01-21T16:28:58.240146Z"
        },
        "id": "aFxKlh5ag_80"
      },
      "outputs": [],
      "execution_count": null
    },
    {
      "cell_type": "code",
      "source": [
        "test_dataset = keras.utils.timeseries_dataset_from_array(\n",
        "    raw_data[:-delay],\n",
        "    targets = temperature[delay:],\n",
        "    sampling_rate = sampling_rate,\n",
        "    sequence_length = sequence_length,\n",
        "    batch_size = batch_size,\n",
        "    shuffle = True,\n",
        "    start_index=  train_samples + val_samples\n",
        "\n",
        ")"
      ],
      "metadata": {
        "trusted": true,
        "execution": {
          "iopub.status.busy": "2025-01-21T16:32:14.297037Z",
          "iopub.execute_input": "2025-01-21T16:32:14.297503Z",
          "iopub.status.idle": "2025-01-21T16:32:14.394722Z",
          "shell.execute_reply.started": "2025-01-21T16:32:14.297468Z",
          "shell.execute_reply": "2025-01-21T16:32:14.393592Z"
        },
        "id": "-RJ4lVuag_81"
      },
      "outputs": [],
      "execution_count": null
    },
    {
      "cell_type": "code",
      "source": [
        "for samples , targets in train_dataset:\n",
        "   print(f\"sample shape is: {samples.shape}\")\n",
        "   print(f\"Target shape is: {targets.shape}\")\n",
        "   break"
      ],
      "metadata": {
        "trusted": true,
        "execution": {
          "iopub.status.busy": "2025-01-21T16:32:17.764535Z",
          "iopub.execute_input": "2025-01-21T16:32:17.76495Z",
          "iopub.status.idle": "2025-01-21T16:32:18.123798Z",
          "shell.execute_reply.started": "2025-01-21T16:32:17.76492Z",
          "shell.execute_reply": "2025-01-21T16:32:18.122532Z"
        },
        "id": "SBC2x8DGg_82"
      },
      "outputs": [],
      "execution_count": null
    },
    {
      "cell_type": "markdown",
      "source": [
        "# Setting a common baseline to measure our models performance against it"
      ],
      "metadata": {
        "id": "8VDW4ps_jPaQ"
      }
    },
    {
      "cell_type": "code",
      "source": [
        "# setting a common baseline\n",
        "def evaluate_naive_method(dataset):\n",
        "    total_abs_err = 0\n",
        "    samples_seen = 0\n",
        "    for samples, targets in dataset:\n",
        "        preds = samples[:, -1, 1]* std[1] + mean[1]\n",
        "        total_abs_err += np.sum(np.abs(preds - targets))\n",
        "        samples_seen += samples.shape[0]\n",
        "    return total_abs_err/ samples_seen\n",
        "\n",
        "print(f\"Validation MAE: {evaluate_naive_method(val_dataset):.2f}\")\n",
        "print(f\"Test MAE: {evaluate_naive_method(test_dataset):.2f}\")"
      ],
      "metadata": {
        "trusted": true,
        "execution": {
          "iopub.status.busy": "2025-01-21T16:33:24.171211Z",
          "iopub.execute_input": "2025-01-21T16:33:24.171598Z",
          "iopub.status.idle": "2025-01-21T16:33:41.005735Z",
          "shell.execute_reply.started": "2025-01-21T16:33:24.171567Z",
          "shell.execute_reply": "2025-01-21T16:33:41.004609Z"
        },
        "id": "91dKtuR5g_83"
      },
      "outputs": [],
      "execution_count": null
    },
    {
      "cell_type": "markdown",
      "source": [
        "## Building the model using LSMT"
      ],
      "metadata": {
        "id": "3SJgQOJojc1h"
      }
    },
    {
      "cell_type": "code",
      "source": [
        "# building the model using LSMT\n",
        "from tensorflow.keras import layers\n",
        "inputs = keras.Input(shape = (sequence_length, raw_data.shape[-1]))\n",
        "x = layers.LSTM(16)(inputs)\n",
        "outputs = layers.Dense(1)(x)\n",
        "model = keras.Model(inputs = inputs, outputs = outputs)"
      ],
      "metadata": {
        "trusted": true,
        "execution": {
          "iopub.status.busy": "2025-01-21T16:41:50.002369Z",
          "iopub.execute_input": "2025-01-21T16:41:50.002817Z",
          "iopub.status.idle": "2025-01-21T16:41:50.042891Z",
          "shell.execute_reply.started": "2025-01-21T16:41:50.002784Z",
          "shell.execute_reply": "2025-01-21T16:41:50.041801Z"
        },
        "id": "edf2RWorg_84"
      },
      "outputs": [],
      "execution_count": null
    },
    {
      "cell_type": "code",
      "source": [
        "model.compile(optimizer = \"rmsprop\",\n",
        "             loss = \"mse\",\n",
        "             metrics = [\"mae\"])"
      ],
      "metadata": {
        "trusted": true,
        "execution": {
          "iopub.status.busy": "2025-01-21T16:43:57.227174Z",
          "iopub.execute_input": "2025-01-21T16:43:57.227711Z",
          "iopub.status.idle": "2025-01-21T16:43:57.245533Z",
          "shell.execute_reply.started": "2025-01-21T16:43:57.227672Z",
          "shell.execute_reply": "2025-01-21T16:43:57.244221Z"
        },
        "id": "vgUz5_ydg_85"
      },
      "outputs": [],
      "execution_count": null
    },
    {
      "cell_type": "code",
      "source": [
        "callbacks = keras.callbacks.ModelCheckpoint(\n",
        "    filepath = \"timeseries_lstm.keras\",\n",
        "    save_best_only = True,\n",
        "    monitor = \"mae\"\n",
        ")"
      ],
      "metadata": {
        "trusted": true,
        "execution": {
          "iopub.status.busy": "2025-01-21T16:46:05.874859Z",
          "iopub.execute_input": "2025-01-21T16:46:05.87539Z",
          "iopub.status.idle": "2025-01-21T16:46:05.882228Z",
          "shell.execute_reply.started": "2025-01-21T16:46:05.875353Z",
          "shell.execute_reply": "2025-01-21T16:46:05.880468Z"
        },
        "id": "csVc0szZg_86"
      },
      "outputs": [],
      "execution_count": null
    },
    {
      "cell_type": "code",
      "source": [
        "model.fit(train_dataset,\n",
        "         epochs = 10,\n",
        "         callbacks = callbacks,\n",
        "         validation_data = val_dataset)"
      ],
      "metadata": {
        "trusted": true,
        "execution": {
          "iopub.status.busy": "2025-01-21T16:47:27.124089Z",
          "iopub.execute_input": "2025-01-21T16:47:27.12468Z",
          "iopub.status.idle": "2025-01-21T16:57:12.800272Z",
          "shell.execute_reply.started": "2025-01-21T16:47:27.124636Z",
          "shell.execute_reply": "2025-01-21T16:57:12.799163Z"
        },
        "id": "5CDcrV6Vg_86"
      },
      "outputs": [],
      "execution_count": null
    },
    {
      "cell_type": "code",
      "source": [
        "history = keras.model.load_model(\"timeseries_lstm.keras\")"
      ],
      "metadata": {
        "trusted": true,
        "id": "h-cTfkXRg_87"
      },
      "outputs": [],
      "execution_count": null
    },
    {
      "cell_type": "code",
      "source": [
        "print(f\"Validation loss is :{history[\"val_loss\"]}\")\n",
        "print(f\"Validation MAE is :{history[\"val_mae\"]}\")"
      ],
      "metadata": {
        "trusted": true,
        "id": "33dUdqFug_87"
      },
      "outputs": [],
      "execution_count": null
    },
    {
      "cell_type": "code",
      "source": [
        "print(f\"Test mae is : {history.evaluate(test_dataset[1]:.2f)}\")"
      ],
      "metadata": {
        "trusted": true,
        "id": "9vCiptM8g_88"
      },
      "outputs": [],
      "execution_count": null
    },
    {
      "cell_type": "code",
      "source": [],
      "metadata": {
        "trusted": true,
        "id": "QIYAyM_ug_88"
      },
      "outputs": [],
      "execution_count": null
    }
  ]
}